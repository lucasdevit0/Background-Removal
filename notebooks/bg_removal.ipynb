{
 "cells": [
  {
   "cell_type": "code",
   "execution_count": 3,
   "id": "2f24768d",
   "metadata": {},
   "outputs": [
    {
     "data": {
      "text/plain": [
       "True"
      ]
     },
     "execution_count": 3,
     "metadata": {},
     "output_type": "execute_result"
    }
   ],
   "source": [
    "from rembg import remove\n",
    "import cv2\n",
    "\n",
    "input_path = 'test_images/test01.jpg'\n",
    "output_path = 'output_images/test01_output.png'\n",
    "\n",
    "input = cv2.imread(input_path)\n",
    "output = remove(input)\n",
    "cv2.imwrite(output_path, output)"
   ]
  },
  {
   "cell_type": "code",
   "execution_count": 8,
   "id": "4b30a116",
   "metadata": {},
   "outputs": [],
   "source": [
    "from pathlib import Path\n",
    "from rembg import remove, new_session\n",
    "\n",
    "session = new_session()\n",
    "\n",
    "for file in Path('test_images').glob('*'):\n",
    "    input_path = str(file)\n",
    "    output_path = str(file.parent / (file.stem + \".out.png\"))\n",
    "\n",
    "    with open(input_path, 'rb') as i:\n",
    "        with open(output_path, 'wb') as o:\n",
    "            input = i.read()\n",
    "            output = remove(input, session=session)\n",
    "            o.write(output)"
   ]
  },
  {
   "cell_type": "code",
   "execution_count": null,
   "id": "bf671286",
   "metadata": {},
   "outputs": [],
   "source": []
  }
 ],
 "metadata": {
  "kernelspec": {
   "display_name": "Python 3 (ipykernel)",
   "language": "python",
   "name": "python3"
  },
  "language_info": {
   "codemirror_mode": {
    "name": "ipython",
    "version": 3
   },
   "file_extension": ".py",
   "mimetype": "text/x-python",
   "name": "python",
   "nbconvert_exporter": "python",
   "pygments_lexer": "ipython3",
   "version": "3.10.10"
  }
 },
 "nbformat": 4,
 "nbformat_minor": 5
}
